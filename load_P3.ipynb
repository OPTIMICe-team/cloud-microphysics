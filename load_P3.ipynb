{
 "cells": [
  {
   "cell_type": "code",
   "execution_count": null,
   "metadata": {},
   "outputs": [],
   "source": [
    "import xarray as xr\n",
    "\n",
    "iconP3path = '/data/optimice/P3paper_ICONoutput/P3realcase__20151124_624m_satad0/'\n",
    "\n",
    "# Different types of files:\n",
    "# 2d_cldprcp (ncells, vertices, time), # 2d_cldprcp (ncells, vertices, time) -> 2d fields, strange dimensions\n",
    "# basic__ (time, lon, lat, height) -> this seems the interesting one\n",
    "# basic_zlev(time, lon, lat, alt) -> altitude? 93 alts instead of 150 heights???\n",
    "# hlev_int50m_basic__ (time, lon, lat, height) -> again 93\n"
   ]
  }
 ],
 "metadata": {
  "kernelspec": {
   "display_name": "Python 3",
   "language": "python",
   "name": "python3"
  },
  "language_info": {
   "codemirror_mode": {
    "name": "ipython",
    "version": 3
   },
   "file_extension": ".py",
   "mimetype": "text/x-python",
   "name": "python",
   "nbconvert_exporter": "python",
   "pygments_lexer": "ipython3",
   "version": "3.5.2"
  }
 },
 "nbformat": 4,
 "nbformat_minor": 2
}
