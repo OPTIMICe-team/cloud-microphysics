{
 "cells": [
  {
   "cell_type": "code",
   "execution_count": 1,
   "metadata": {},
   "outputs": [
    {
     "name": "stdout",
     "output_type": "stream",
     "text": [
      "1199.0425646305084\n",
      "5619.343256950378\n",
      "12929.75197505951\n"
     ]
    }
   ],
   "source": [
    "from glob import glob\n",
    "import xarray as xr\n",
    "import pandas as pd\n",
    "import numpy as np\n",
    "\n",
    "from scipy.special import gamma\n",
    "from scipy.integrate import quad\n",
    "from scipy.stats import gaussian_kde\n",
    "\n",
    "import matplotlib.pyplot as plt\n",
    "import matplotlib.dates as mdates\n",
    "import matplotlib.colors as mcolors\n",
    "\n",
    "import time\n",
    "\n",
    "import snowScatt\n",
    "from pytmatrix import tmatrix, tmatrix_aux, scatter, radar, refractive\n",
    "\n",
    "from microphyisical_function import Dice\n",
    "from scattering_functions import tm_reflectivity # scattering functions should depend on this file, not the contrary\n",
    "from scattering_functions import waves\n",
    "\n",
    "ar = 1000.0*np.pi/6.0\n",
    "br = 3.0\n",
    "\n",
    "#Dice = np.logspace(-6, -1.1, 100) # limit for W band refl\n",
    "\n",
    "frequency_list = ['X', 'Ka', 'W']\n",
    "\n",
    "a_graupel = np.linspace(21, 472, 1000)\n",
    "a_partrimed = np.linspace(0.0121, 0.024, 1000)\n",
    "\n",
    "z_tm_graupel = pd.DataFrame(index=a_graupel, columns=Dice)\n",
    "z_tm_partrimed = pd.DataFrame(index=a_partrimed, columns=Dice)\n",
    "\n",
    "##############################################################\n",
    "# From here and on there should be an execution protection\n",
    "for freq_str in frequency_list:\n",
    "    start = time.time()\n",
    "    wl = waves[freq_str]*1.0e-3 # back to meters\n",
    "    for i in Dice:\n",
    "        for j in a_graupel:\n",
    "            z_tm_graupel.loc[j, i] = tm_reflectivity(i, wl, refractive.mi(wl*1.0e3, 1.0e-3*j*6.0/np.pi))\n",
    "    for i in Dice:\n",
    "        for j in a_partrimed:\n",
    "            z_tm_partrimed.loc[j, i] = tm_reflectivity(i, wl, refractive.mi(wl*1.0e3, \n",
    "                                                                            np.minimum(1.0e-3*j*6.0*i**(-1.1)/(np.pi*0.6), 0.9)), 0.6)\n",
    "    z_tm_graupel.to_csv('z_tm_graupel_'+freq_str+'.csv')\n",
    "    z_tm_partrimed.to_csv('z_tm_partrimed_'+freq_str+'.csv')\n",
    "    print(time.time() - start )\n",
    "\n",
    "##################################################################\n",
    "# THIS SHOULD REALLY GO FROM CSV TO netCDF to include wl in dims!#\n",
    "##################################################################"
   ]
  }
 ],
 "metadata": {
  "kernelspec": {
   "display_name": "Python 3",
   "language": "python",
   "name": "python3"
  },
  "language_info": {
   "codemirror_mode": {
    "name": "ipython",
    "version": 3
   },
   "file_extension": ".py",
   "mimetype": "text/x-python",
   "name": "python",
   "nbconvert_exporter": "python",
   "pygments_lexer": "ipython3",
   "version": "3.8.2"
  }
 },
 "nbformat": 4,
 "nbformat_minor": 2
}
