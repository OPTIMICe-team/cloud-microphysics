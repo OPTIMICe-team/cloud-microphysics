{
 "cells": [
  {
   "cell_type": "code",
   "execution_count": 1,
   "metadata": {},
   "outputs": [
    {
     "name": "stdout",
     "output_type": "stream",
     "text": [
      "1280.2231373786926\n",
      "5673.133372783661\n",
      "15034.608710765839\n"
     ]
    }
   ],
   "source": [
    "from glob import glob\n",
    "import xarray as xr\n",
    "import pandas as pd\n",
    "import numpy as np\n",
    "\n",
    "from scipy.special import gamma\n",
    "from scipy.integrate import quad\n",
    "from scipy.stats import gaussian_kde\n",
    "\n",
    "import matplotlib.pyplot as plt\n",
    "import matplotlib.dates as mdates\n",
    "import matplotlib.colors as mcolors\n",
    "\n",
    "import time\n",
    "\n",
    "import snowScatt\n",
    "from pytmatrix import tmatrix, tmatrix_aux, scatter, radar, refractive\n",
    "\n",
    "ar = 1000.0*np.pi/6.0\n",
    "br = 3.0\n",
    "\n",
    "Dice = np.logspace(-6, -1.1, 100) # limit for W band refl\n",
    "\n",
    "def tm_reflectivity(size, wl, n, ar=1.0):\n",
    "    scatt = tmatrix.Scatterer(radius=0.5e3*size, # conversion to millimeter radius\n",
    "                              wavelength=wl*1.0e3, # conversion to millimeters\n",
    "                              m=n,\n",
    "                              axis_ratio=1.0/ar)\n",
    "    scatt.set_geometry(tmatrix_aux.geom_vert_back)\n",
    "    return radar.radar_xsect(scatt) # mm**2 ... need to integrate and multiply by Rayleigh factor\n",
    "\n",
    "a_graupel = np.linspace(21, 472, 1000)\n",
    "a_partrimed = np.linspace(0.0121, 0.024, 1000)\n",
    "z_tm_graupel = pd.DataFrame(index=a_graupel, columns=Dice)\n",
    "z_tm_partrimed = pd.DataFrame(index=a_partrimed, columns=Dice)\n",
    "\n",
    "\n",
    "start = time.time()\n",
    "wl = tmatrix_aux.wl_X*1.0e-3 # back to meters\n",
    "for i in Dice:\n",
    "    for j in a_graupel:\n",
    "        z_tm_graupel.loc[j, i] = tm_reflectivity(i, wl, refractive.mi(wl*1.0e3, 1.0e-3*j*6.0/np.pi))\n",
    "for i in Dice:\n",
    "    for j in a_partrimed:\n",
    "        z_tm_partrimed.loc[j, i] = tm_reflectivity(i, wl, refractive.mi(wl*1.0e3, 1.0e-3*j*6.0*i**(-1.1)/(np.pi*0.6)), 0.6)\n",
    "z_tm_graupel.to_csv('z_tm_graupel_X.csv')\n",
    "z_tm_partrimed.to_csv('z_tm_partrimed_X.csv')\n",
    "print(time.time() - start )\n",
    "\n",
    "start = time.time()\n",
    "wl = tmatrix_aux.wl_Ka*1.0e-3 # back to meters\n",
    "for i in Dice:\n",
    "    for j in a_graupel:\n",
    "        z_tm_graupel.loc[j, i] = tm_reflectivity(i, wl, refractive.mi(wl*1.0e3, 1.0e-3*j*6.0/np.pi))\n",
    "for i in Dice:\n",
    "    for j in a_partrimed:\n",
    "        z_tm_partrimed.loc[j, i] = tm_reflectivity(i, wl, refractive.mi(wl*1.0e3, 1.0e-3*j*6.0*i**(-1.1)/(np.pi*0.6)), 0.6)\n",
    "z_tm_graupel.to_csv('z_tm_graupel_Ka.csv')\n",
    "z_tm_partrimed.to_csv('z_tm_partrimed_Ka.csv')\n",
    "print(time.time() - start )\n",
    "\n",
    "start = time.time()\n",
    "wl = tmatrix_aux.wl_W*1.0e-3 # back to meters\n",
    "for i in Dice:\n",
    "    for j in a_graupel:\n",
    "        z_tm_graupel.loc[j, i] = tm_reflectivity(i, wl, refractive.mi(wl*1.0e3, 1.0e-3*j*6.0/np.pi))\n",
    "for i in Dice:\n",
    "    for j in a_partrimed:\n",
    "        z_tm_partrimed.loc[j, i] = tm_reflectivity(i, wl, refractive.mi(wl*1.0e3, 1.0e-3*j*6.0*i**(-1.1)/(np.pi*0.6)), 0.6)\n",
    "z_tm_graupel.to_csv('z_tm_graupel_W.csv')\n",
    "z_tm_partrimed.to_csv('z_tm_partrimed_W.csv')\n",
    "print(time.time() - start )\n",
    "\n",
    "#################################################################\n",
    "# THIS SHOULD REALLY GO FROM CSV TO netCDF to include wl in dims!\n",
    "#################################################################"
   ]
  },
  {
   "cell_type": "code",
   "execution_count": 2,
   "metadata": {},
   "outputs": [
    {
     "ename": "AttributeError",
     "evalue": "module 'pytmatrix.tmatrix_aux' has no attribute 'w'",
     "output_type": "error",
     "traceback": [
      "\u001b[0;31m---------------------------------------------------------------------------\u001b[0m",
      "\u001b[0;31mAttributeError\u001b[0m                            Traceback (most recent call last)",
      "\u001b[0;32m<ipython-input-2-efb3a51554c9>\u001b[0m in \u001b[0;36m<module>\u001b[0;34m\u001b[0m\n\u001b[0;32m----> 1\u001b[0;31m \u001b[0mtmatrix_aux\u001b[0m\u001b[0;34m.\u001b[0m\u001b[0mw\u001b[0m\u001b[0;34m\u001b[0m\u001b[0;34m\u001b[0m\u001b[0m\n\u001b[0m",
      "\u001b[0;31mAttributeError\u001b[0m: module 'pytmatrix.tmatrix_aux' has no attribute 'w'"
     ]
    }
   ],
   "source": [
    "tmatrix_aux.w"
   ]
  },
  {
   "cell_type": "code",
   "execution_count": null,
   "metadata": {},
   "outputs": [],
   "source": [
    "z_tm_graupel.to_csv('z_tm_graupel_X.csv')\n",
    "back = pd.read_csv('z_tm_graupel_X.csv', index_col=0, dtype=np.float64, engine='c')\n",
    "back.columns=back.columns.astype(np.float)\n",
    "back.iloc[back.index.get_loc(421, 'nearest')].loc[Dice]"
   ]
  },
  {
   "cell_type": "code",
   "execution_count": null,
   "metadata": {},
   "outputs": [],
   "source": []
  }
 ],
 "metadata": {
  "kernelspec": {
   "display_name": "Python 3",
   "language": "python",
   "name": "python3"
  },
  "language_info": {
   "codemirror_mode": {
    "name": "ipython",
    "version": 3
   },
   "file_extension": ".py",
   "mimetype": "text/x-python",
   "name": "python",
   "nbconvert_exporter": "python",
   "pygments_lexer": "ipython3",
   "version": "3.8.2"
  }
 },
 "nbformat": 4,
 "nbformat_minor": 2
}
