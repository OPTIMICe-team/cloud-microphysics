{
 "cells": [
  {
   "cell_type": "code",
   "execution_count": 22,
   "metadata": {},
   "outputs": [
    {
     "data": {
      "text/html": [
       "<pre>&lt;xarray.DataArray &#x27;sZDR&#x27; (time: 900, height: 334)&gt;\n",
       "array([[ nan,  nan,  nan, ...,  nan,  nan,  nan],\n",
       "       [ nan,  nan,  nan, ...,  nan,  nan,  nan],\n",
       "       [ nan,  nan,  nan, ...,  nan,  nan,  nan],\n",
       "       ...,\n",
       "       [ nan,  nan,  nan, ...,  nan,  nan,  nan],\n",
       "       [ nan, 128., 129., ...,  nan,  nan,  nan],\n",
       "       [ nan,  nan,  nan, ...,  nan,  nan,  nan]])\n",
       "Coordinates:\n",
       "  * time     (time) datetime64[ns] 2019-01-22 ... 2019-01-22T00:59:56\n",
       "  * height   (height) int64 0 36 72 108 144 ... 11844 11880 11916 11952 11988</pre>"
      ],
      "text/plain": [
       "<xarray.DataArray 'sZDR' (time: 900, height: 334)>\n",
       "array([[ nan,  nan,  nan, ...,  nan,  nan,  nan],\n",
       "       [ nan,  nan,  nan, ...,  nan,  nan,  nan],\n",
       "       [ nan,  nan,  nan, ...,  nan,  nan,  nan],\n",
       "       ...,\n",
       "       [ nan,  nan,  nan, ...,  nan,  nan,  nan],\n",
       "       [ nan, 128., 129., ...,  nan,  nan,  nan],\n",
       "       [ nan,  nan,  nan, ...,  nan,  nan,  nan]])\n",
       "Coordinates:\n",
       "  * time     (time) datetime64[ns] 2019-01-22 ... 2019-01-22T00:59:56\n",
       "  * height   (height) int64 0 36 72 108 144 ... 11844 11880 11916 11952 11988"
      ]
     },
     "execution_count": 22,
     "metadata": {},
     "output_type": "execute_result"
    }
   ],
   "source": [
    "import xarray as xr\n",
    "import numpy as np\n",
    "\n",
    "filepath = '/net/broebroe/lvonterz/tripex_pol/output/2019/01/22/'\n",
    "filename = filepath + '20190122_00_tripex_pol_poldata_L0_spec_regridded.nc'\n",
    "data = xr.open_dataset(filename)\n",
    "\n",
    "allna = data.sZDR.isnull().all(dim='Vel') # get the time-height of allNan\n",
    "idx = data.sZDR.where(~allna, 0).argmax(dim='Vel') # temporarely fill the allNans with 0 and get the idxmaxs\n",
    "idx = idx.where(~allna, np.nan) # perhaps instead of 0 you can fill again with NaNs the time-height where you had all nans"
   ]
  },
  {
   "cell_type": "code",
   "execution_count": 16,
   "metadata": {},
   "outputs": [
    {
     "data": {
      "text/html": [
       "<pre>&lt;xarray.DataArray &#x27;sZDR&#x27; (time: 900, height: 334)&gt;\n",
       "array([[ True,  True,  True, ...,  True,  True,  True],\n",
       "       [ True,  True,  True, ...,  True,  True,  True],\n",
       "       [ True,  True,  True, ...,  True,  True,  True],\n",
       "       ...,\n",
       "       [ True,  True,  True, ...,  True,  True,  True],\n",
       "       [ True, False, False, ...,  True,  True,  True],\n",
       "       [ True,  True,  True, ...,  True,  True,  True]])\n",
       "Coordinates:\n",
       "  * time     (time) datetime64[ns] 2019-01-22 ... 2019-01-22T00:59:56\n",
       "  * height   (height) int64 0 36 72 108 144 ... 11844 11880 11916 11952 11988</pre>"
      ],
      "text/plain": [
       "<xarray.DataArray 'sZDR' (time: 900, height: 334)>\n",
       "array([[ True,  True,  True, ...,  True,  True,  True],\n",
       "       [ True,  True,  True, ...,  True,  True,  True],\n",
       "       [ True,  True,  True, ...,  True,  True,  True],\n",
       "       ...,\n",
       "       [ True,  True,  True, ...,  True,  True,  True],\n",
       "       [ True, False, False, ...,  True,  True,  True],\n",
       "       [ True,  True,  True, ...,  True,  True,  True]])\n",
       "Coordinates:\n",
       "  * time     (time) datetime64[ns] 2019-01-22 ... 2019-01-22T00:59:56\n",
       "  * height   (height) int64 0 36 72 108 144 ... 11844 11880 11916 11952 11988"
      ]
     },
     "execution_count": 16,
     "metadata": {},
     "output_type": "execute_result"
    }
   ],
   "source": [
    "allna"
   ]
  },
  {
   "cell_type": "code",
   "execution_count": null,
   "metadata": {},
   "outputs": [],
   "source": []
  }
 ],
 "metadata": {
  "kernelspec": {
   "display_name": "Python 3",
   "language": "python",
   "name": "python3"
  },
  "language_info": {
   "codemirror_mode": {
    "name": "ipython",
    "version": 3
   },
   "file_extension": ".py",
   "mimetype": "text/x-python",
   "name": "python",
   "nbconvert_exporter": "python",
   "pygments_lexer": "ipython3",
   "version": "3.8.2"
  }
 },
 "nbformat": 4,
 "nbformat_minor": 2
}
